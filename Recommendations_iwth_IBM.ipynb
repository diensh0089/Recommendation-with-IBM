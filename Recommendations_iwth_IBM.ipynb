# Recommendations with IBM
In this notebook, you will be putting your recommendation skills to use on real data from the IBM Watson Studio platform.

You may either submit your notebook through the workspace here, or you may work from your local machine and submit through the next page. Either way assure that your code passes the project RUBRIC. Please save regularly.

By following the table of contents, you will build out a number of different methods for making recommendations that can be used for different situations.

Table of Contents
I. Exploratory Data Analysis
II. Rank Based Recommendations
III. User-User Based Collaborative Filtering
IV. Content Based Recommendations (EXTRA - NOT REQUIRED)
V. Matrix Factorization
VI. Extras & Concluding

At the end of the notebook, you will find directions for how to submit your work. Let's get started by importing the necessary libraries and reading in the data.

import pandas as pd
import numpy as np
import matplotlib.pyplot as plt
import project_tests as t
import pickle
​
%matplotlib inline
​
df = pd.read_csv('data/user-item-interactions.csv')
df_content = pd.read_csv('data/articles_community.csv')
del df['Unnamed: 0']
del df_content['Unnamed: 0']
​
## Show df to get an idea of the data
df.head()


1. What is the distribution of how many articles a user interacts with in the dataset? Provide a visual and descriptive statistics to assist with giving a look at the number of times each user interacts with an article.

df['email'].value_counts().describe()
count    5148.000000
mean        8.930847
std        16.802267
min         1.000000
25%         1.000000
50%         3.000000
75%         9.000000
max       364.000000

Name: email, dtype: float64


## Take a look at the articles with the highest article_counts
df_new = df.groupby(['email']).size().reset_index(name='article_counts')
df_new = df_new.sort_values(by=['article_counts'], ascending=False)
df_new.head(8)


## Visualize the number of interactions between users and articles
plt.hist(df.groupby('email').count()['article_id'].sort_values(ascending=False), bins=20)
plt.xlabel('Number of Interactions')
plt.ylabel('Number of Articles')
plt.title('User-Article Interactions')
plt.show()

## Take a look at the median and the maximum number of user-article interactions
df.groupby('email').count()['article_id'].describe()
count    5148.000000
mean        8.930847
std        16.802267
min         1.000000
25%         1.000000
50%         3.000000
75%         9.000000
max       364.000000
Name: article_id, dtype: float64

## Fill in the median and maximum number of user_article interactios below
median_val = df.groupby('email').count()['article_id'].median()
print("50% of individuals interact with {} number of articles or fewer.".format(median_val))
max_views_by_user = df.groupby('email').count()['article_id'].max()
print("The maximum number of user-article interactions by any 1 user is {}.".format(max_views_by_user))
50% of individuals interact with 3.0 number of articles or fewer.
The maximum number of user-article interactions by any 1 user is 364.
2. Explore and remove duplicate articles from the df_content dataframe.

## Find and explore duplicate articles
df_content.duplicated(['article_id']).sum()
5
### Show the article_ids which are duplicate articles
df_cont_dupl = np.where(df_content.duplicated(['article_id']) == True)
df_cont_dupl[0]
array([365, 692, 761, 970, 971])

# Remove any rows that have the same article_id - only keep the first
df_cont_dropDupl = df_content.drop_duplicates(subset='article_id', keep='first')

# Take another look at the number of rows and columns in the dataset - now there are 5 rows less
df_cont_dropDupl.shape
(1051, 5)

3. Use the cells below to find:

a. The number of unique articles that have an interaction with a user.
b. The number of unique articles in the dataset (whether they have any interactions or not).
c. The number of unique users in the dataset. (excluding null values)
d. The number of user-article interactions in the dataset.

unique_articles = df.article_id.nunique()
print('The number of unique articles that have an interaction with a user: {}'.format(unique_articles))
total_articles = df_cont_dropDupl.shape[0]
print('The number of unique articles in the dataset: {}'.format(total_articles))
unique_users = df.email.nunique() 
print('The number of unique users in the dataset: {}'.format(unique_users))
user_article_interactions = df.shape[0]
print('The number of user-article interactions in the dataset: {}'.format(user_article_interactions))
The number of unique articles that have an interaction with a user: 714
The number of unique articles in the dataset: 1051
The number of unique users in the dataset: 5148
The number of user-article interactions in the dataset: 45993
unique_articles = 714
total_articles = 1051
unique_users = 5148
user_article_interactions = 45993
4. Use the cells below to find the most viewed article_id, as well as how often it was viewed. After talking to the company leaders, the email_mapper function was deemed a reasonable way to map users to ids. There were a small number of null values, and it was found that all of these null values likely belonged to a single user (which is how they are stored using the function below).

## Take a look at the article_ids sorted by the number of times they were viewed
df_view_most = df.groupby(['article_id']).count()
df_view_most.head()
df_view_most.sort_values(by=['email'], ascending=False).head()
title	email
article_id		
1429.0	937	937
1330.0	927	927
1431.0	671	671
1427.0	643	643
1364.0	627	627
# Show the article_id of the most viewed article
most_viewed_article_id  = str(df.article_id.value_counts(ascending=False).reset_index()[:1]['index'][0])
print('The most viewed article in the dataset is {}.'.format(most_viewed_article_id ))

# Show the number of times this article was viewed
max_views = df.article_id.value_counts(ascending=False).reset_index()[:1]['article_id'][0] 
print('The article was viewed {} times.'.format(max_views))
The most viewed article in the dataset is 1429.0.
The article was viewed 937 times.
df.head()
article_id	title	user_id
0	1430.0	using pixiedust for fast, flexible, and easier...	1
1	1314.0	healthcare python streaming application demo	2
2	1429.0	use deep learning for image classification	3
3	1338.0	ml optimization using cognitive assistant	4
4	1276.0	deploy your python model as a restful api	5


## No need to change the code here - this will be helpful for later parts of the notebook
## Run this cell to map the user email to a user_id column and remove the email column

def email_mapper():
    coded_dict = dict()
    cter = 1
    email_encoded = []
    
    for val in df['email']:
        if val not in coded_dict:
            coded_dict[val] = cter
            cter+=1
        
        email_encoded.append(coded_dict[val])
    return email_encoded

email_encoded = email_mapper()
del df['email']
df['user_id'] = email_encoded

## show header
df.head()
article_id	title	user_id
0	1430.0	using pixiedust for fast, flexible, and easier...	1
1	1314.0	healthcare python streaming application demo	2
2	1429.0	use deep learning for image classification	3
3	1338.0	ml optimization using cognitive assistant	4
4	1276.0	deploy your python model as a restful api	5
## If you stored all your results in the variable names above, 
## you shouldn't need to change anything in this cell


sol_1_dict = {
    '`50% of individuals have _____ or fewer interactions.`': median_val,
    '`The total number of user-article interactions in the dataset is ______.`': user_article_interactions,
    '`The maximum number of user-article interactions by any 1 user is ______.`': max_views_by_user,
    '`The most viewed article in the dataset was viewed _____ times.`': max_views,
    '`The article_id of the most viewed article is ______.`': most_viewed_article_id,
    '`The number of unique articles that have at least 1 rating ______.`': unique_articles,
    '`The number of unique users in the dataset is ______`': unique_users,
    '`The number of unique articles on the IBM platform`': total_articles
}


# Test your dictionary against the solution
t.sol_1_test(sol_1_dict)
It looks like you have everything right here! Nice job!
df_func = df.groupby(['article_id']).count()
df_func.iloc[:5]
title	user_id
article_id		
0.0	14	14
2.0	58	58
4.0	13	13
8.0	85	85
9.0	10	10
Part II: Rank-Based Recommendations
Unlike in the earlier lessons, we don't actually have ratings for whether a user liked an article or not. We only know that a user has interacted with an article. In these cases, the popularity of an article can really only be based on how often an article was interacted with.

1. Fill in the function below to return the n top articles ordered with most interactions as the top. Test your function using the tests below.

def get_top_articles(n, df=df):
    '''
    INPUT:
    n - (int) the number of top articles to return
    df - (pandas dataframe) df as defined at the top of the notebook 
    
    OUTPUT:
    top_articles - (list) A list of the top 'n' article titles 
    
    '''
    # Your code here
    top_articles = list(df.groupby(['article_id', 'title']).size()\
                        .reset_index(name='count').sort_values('count', ascending=False)[:n].title)
        
    return top_articles # Return the top article titles from df (not df_content)


def get_top_article_ids(n, df=df):
    '''
    INPUT:
    n - (int) the number of top articles to return
    df - (pandas dataframe) df as defined at the top of the notebook 
    
    OUTPUT:
    top_articles - (list) A list of the top 'n' article titles 
    
    '''
    # Your code here
    df_top_articles = df.groupby(['article_id', 'title']).size()\
                        .reset_index(name='count').sort_values('count', ascending=False)[:n]
    
    top_articles = list(df_top_articles['article_id'].astype(str))
 
    return top_articles # Return the top article ids
print(get_top_articles(10))
print(get_top_article_ids(10))
['use deep learning for image classification', 'insights from new york car accident reports', 'visualize car data with brunel', 'use xgboost, scikit-learn & ibm watson machine learning apis', 'predicting churn with the spss random tree algorithm', 'healthcare python streaming application demo', 'finding optimal locations of new store using decision optimization', 'apache spark lab, part 1: basic concepts', 'analyze energy consumption in buildings', 'gosales transactions for logistic regression model']
['1429.0', '1330.0', '1431.0', '1427.0', '1364.0', '1314.0', '1293.0', '1170.0', '1162.0', '1304.0']
# Test your function by returning the top 5, 10, and 20 articles
top_5 = get_top_articles(5)
top_10 = get_top_articles(10)
top_20 = get_top_articles(20)

# Test each of your three lists from above
t.sol_2_test(get_top_articles)
Your top_5 looks like the solution list! Nice job.
Your top_10 looks like the solution list! Nice job.
Your top_20 looks like the solution list! Nice job.
Part III: User-User Based Collaborative Filtering
1. Use the function below to reformat the df dataframe to be shaped with users as the rows and articles as the columns.

Each user should only appear in each row once.
Each article should only show up in one column.
If a user has interacted with an article, then place a 1 where the user-row meets for that article-column. It does not matter how many times a user has interacted with the article, all entries where a user has interacted with an article should be a 1.
If a user has not interacted with an item, then place a zero where the user-row meets for that article-column.
Use the tests to make sure the basic structure of your matrix matches what is expected by the solution.

def create_user_item_matrix(df):
    '''
    INPUT:
    df - pandas dataframe with article_id, title, user_id columns
    
    OUTPUT:
    user_item - user item matrix 
    
    Description:
    Return a matrix with user ids as rows and article ids on the columns with 1 values where a user interacted with 
    an article and a 0 otherwise
    '''
    # Fill in the function here
   
    # Drop the duplicate rows and create new rows and columns
    user_item = df.drop_duplicates().groupby(['user_id', 'article_id']).size().unstack()
​
    # Fill in NaN with '0'
    user_item = user_item.fillna(0)
    
    # Convert to integer
    user_item = user_item.astype('int')
    
    return user_item # return the user_item matrix 
​
user_item = create_user_item_matrix(df)
## Tests: You should just need to run this cell.  Don't change the code.
assert user_item.shape[0] == 5149, "Oops!  The number of users in the user-article matrix doesn't look right."
assert user_item.shape[1] == 714, "Oops!  The number of articles in the user-article matrix doesn't look right."
assert user_item.sum(axis=1)[1] == 36, "Oops!  The number of articles seen by user 1 doesn't look right."
print("You have passed our quick tests!  Please proceed!")
You have passed our quick tests!  Please proceed!
2. Complete the function below which should take a user_id and provide an ordered list of the most similar users to that user (from most similar to least similar). The returned result should not contain the provided user_id, as we know that each user is similar to him/herself. Because the results for each user here are binary, it (perhaps) makes sense to compute similarity as the dot product of two users.

Use the tests to test your function.

def find_similar_users(user_id, user_item=user_item):
    
    # compute similarity of each user to the provided user
    similar_users = user_item[user_item.index == user_id].dot(user_item.T)
    
    # sort by similarity
    user_dict = {}
    for i in similar_users.columns.values:
        user_dict[i] = int(similar_users[i])
​
    sort_list = sorted(user_dict.items(), key = lambda titem: titem[1], reverse = True)
    
    # create list of just the ids
    most_similar_users = []
    for i in range(len(sort_list)):
        most_similar_users.append(sort_list[i][0])
    
    # remove the own user's id
    most_similar_users.remove(user_id)
       
    return most_similar_users # return a list of the users in order from most to least similar
        
# Do a spot check of your function
print("The 10 most similar users to user 1 are: {}".format(find_similar_users(1)[:10]))
print("The 5 most similar users to user 3933 are: {}".format(find_similar_users(3933)[:5]))
print("The 3 most similar users to user 46 are: {}".format(find_similar_users(46)[:3]))
The 10 most similar users to user 1 are: [3933, 23, 3782, 203, 4459, 131, 3870, 46, 4201, 49]
The 5 most similar users to user 3933 are: [1, 23, 3782, 203, 4459]
The 3 most similar users to user 46 are: [4201, 23, 3782]
3. Now that you have a function that provides the most similar users to each user, you will want to use these users to find articles you can recommend. Complete the functions below to return the articles you would recommend to each user.

def get_article_names(article_ids, df=df):
    '''
    INPUT:
    article_ids - (list) a list of article ids
    df - (pandas dataframe) df as defined at the top of the notebook
    
    OUTPUT:
    article_names - (list) a list of article names associated with the list of article ids 
                    (this is identified by the title column)
    '''
    # Your code here
    article_names = df[df['article_id'].isin(article_ids)]['title'].drop_duplicates().values.tolist()
    
    return article_names 
​
​
def get_user_articles(user_id, user_item=user_item):
    '''
    INPUT:
    user_id - (int) a user id
    user_item - (pandas dataframe) matrix of users by articles: 
                1's when a user has interacted with an article, 0 otherwise
    
    OUTPUT:
    article_ids - (list) a list of the article ids seen by the user
    article_names - (list) a list of article names associated with the list of article ids 
                    (this is identified by the doc_full_name column in df_content)
    
    Description:
    Provides a list of the article_ids and article titles that have been seen by a user
    '''
    # Your code here
    user_idx = user_item.loc[user_id, :]
    article_ids = user_idx[user_idx == 1].index.values.astype('str').tolist()
    article_names = get_article_names(article_ids)
    
    return article_ids, article_names # return the ids and names
​
​
def user_user_recs(user_id, m=10):
    '''
    INPUT:
    user_id - (int) a user id
    m - (int) the number of recommendations you want for the user
    
    OUTPUT:
    recs - (list) a list of recommendations for the user
    
    Description:
    Loops through the users based on closeness to the input user_id
    For each user - finds articles the user hasn't seen before and provides them as recs
    Does this until m recommendations are found
    
    Notes:
    Users who are the same closeness are chosen arbitrarily as the 'next' user
    
    For the user where the number of recommended articles starts below m 
    and ends exceeding m, the last items are chosen arbitrarily
    
    '''
    # Your code here
    
    # Find out similar users for specific user_id
    most_similar_users = find_similar_users(user_id)
    
    # Give user_article_ids which user read
    user_article_ids = set(get_user_articles(user_id)[0])
    
    # -- Storing recommendations for user
    recs = []
    for user_neighb in most_similar_users:
        neighb_article_ids = set(get_user_articles(user_neighb)[0])
        recs += list(set(neighb_article_ids) - set(user_article_ids))
        if len(recs) > m:
            break
 
    return recs[:m] # return your recommendations for this user_id 
# Check Results
get_article_names(user_user_recs(1, 10)) # Return 10 recommendations for user 1
['discover hidden facebook usage insights',
 'analyze precipitation data',
 '520    using notebooks with pixiedust for fast, flexi...\nName: title, dtype: object',
 'use decision optimization to schedule league games',
 'challenges in deep learning',
 'machine learning and the science of choosing',
 'this week in data science (february 14, 2017)',
 'data tidying in data science experience',
 'data science platforms are on the rise and ibm is leading the way',
 'airbnb data for analytics: mallorca reviews']
# Test your functions here - No need to change this code - just run this cell
assert set(get_article_names(['1024.0', '1176.0', '1305.0', '1314.0', '1422.0', '1427.0'])) == set(['using deep learning to reconstruct high-resolution audio', 'build a python app on the streaming analytics service', 'gosales transactions for naive bayes model', 'healthcare python streaming application demo', 'use r dataframes & ibm watson natural language understanding', 'use xgboost, scikit-learn & ibm watson machine learning apis']), "Oops! Your the get_article_names function doesn't work quite how we expect."
assert set(get_article_names(['1320.0', '232.0', '844.0'])) == set(['housing (2015): united states demographic measures','self-service data preparation with ibm data refinery','use the cloudant-spark connector in python notebook']), "Oops! Your the get_article_names function doesn't work quite how we expect."
assert set(get_user_articles(20)[0]) == set(['1320.0', '232.0', '844.0'])
assert set(get_user_articles(20)[1]) == set(['housing (2015): united states demographic measures', 'self-service data preparation with ibm data refinery','use the cloudant-spark connector in python notebook'])
assert set(get_user_articles(2)[0]) == set(['1024.0', '1176.0', '1305.0', '1314.0', '1422.0', '1427.0'])
assert set(get_user_articles(2)[1]) == set(['using deep learning to reconstruct high-resolution audio', 'build a python app on the streaming analytics service', 'gosales transactions for naive bayes model', 'healthcare python streaming application demo', 'use r dataframes & ibm watson natural language understanding', 'use xgboost, scikit-learn & ibm watson machine learning apis'])
print("If this is all you see, you passed all of our tests!  Nice job!")
If this is all you see, you passed all of our tests!  Nice job!
4. Now we are going to improve the consistency of the user_user_recs function from above.

Instead of arbitrarily choosing when we obtain users who are all the same closeness to a given user - choose the users that have the most total article interactions before choosing those with fewer article interactions.
Instead of arbitrarily choosing articles from the user where the number of recommended articles starts below m and ends exceeding m, choose articles with the articles with the most total interactions before choosing those with fewer total interactions. This ranking should be what would be obtained from the top_articles function you wrote earlier.
def get_top_sorted_users(user_id, df=df, user_item=user_item):
    '''
    INPUT:
    user_id - (int)
    df - (pandas dataframe) df as defined at the top of the notebook 
    user_item - (pandas dataframe) matrix of users by articles: 
            1's when a user has interacted with an article, 0 otherwise
    
            
    OUTPUT:
    neighbors_df - (pandas dataframe) a dataframe with:
                    neighbor_id - is a neighbor user_id
                    similarity - measure of the similarity of each user to the provided user_id
                    num_interactions - the number of articles viewed by the user - if a u
                    
    Other Details - sort the neighbors_df by the similarity and then by number of interactions where 
                    highest of each is higher in the dataframe
     
    '''
    # Your code here
    colName = ['neighbor_id', 'similarity', 'num_interactions']
    neighbors_df  = pd.DataFrame(columns= colName)
    
    art_count = df.groupby('user_id').count()
    
    
    for id in user_item.index.values:
        if id != user_id:
            neighbor_id = id
           
            # Get the user to user similarity number
            similarity = user_item[user_item.index == user_id].dot(user_item.loc[id].T).values[0]
            
            # Number of interactions between user and article
            num_interactions = user_item.loc[id].values.sum()
            neighbors_df.loc[neighbor_id] = [neighbor_id, similarity, num_interactions]
    
    neighbors_df['similarity'] = neighbors_df['similarity'].astype('int')
    neighbors_df['neighbor_id'] = neighbors_df['neighbor_id'].astype('int')
    neighbors_df = neighbors_df.sort_values(by = ['similarity', 'neighbor_id'], ascending = [False, True])
    
    return neighbors_df # Return the dataframe specified in the doc_string
​
​
def user_user_recs_part2(user_id, m=10):
    '''
    INPUT:
    user_id - (int) a user id
    m - (int) the number of recommendations you want for the user
    
    OUTPUT:
    recs - (list) a list of recommendations for the user by article id
    rec_names - (list) a list of recommendations for the user by article title
    
    Description:
    Loops through the users based on closeness to the input user_id
    For each user - finds articles the user hasn't seen before and provides them as recs
    Does this until m recommendations are found
    
    Notes:
    * Choose the users that have the most total article interactions 
    before choosing those with fewer article interactions.
​
    * Choose articles with the articles with the most total interactions 
    before choosing those with fewer total interactions. 
   
    '''
    # Your code here
   
    #  Find the closest users for the specific user_id
    df_neigh = get_top_sorted_users(user_id)
    top_sim_users = df_neigh['neighbor_id'].values.tolist()
    recs_article_ids = [] 
    
    # User_article_ids that users read
    user_article_ids = list(set(get_user_articles(user_id)[0]))
    
    for neigh_id in top_sim_users:
        recs_article_ids += df[df['user_id'] == neigh_id]['article_id'].values.tolist()
    
    recs_article_ids = list(set(recs_article_ids))
    
    # Select articles that were not viewed by users
    recs_article_ids = [ x for x in recs_article_ids if x not in user_article_ids]
    
    recms_all = df[df.article_id.isin(recs_article_ids)][['article_id', 'title']].drop_duplicates().head(m)
    recs_article_ids = recms_all['article_id'].values.tolist()
    recs_article_names = recms_all['title'].values.tolist()
    
    return recs_article_ids, recs_article_names
# Quick spot check - don't change this code - just use it to test your functions
rec_ids, rec_names = user_user_recs_part2(20, 10)
print("The top 10 recommendations for user 20 are the following article ids:")
print(rec_ids)
print()
print("The top 10 recommendations for user 20 are the following article names:")
print(rec_names)
The top 10 recommendations for user 20 are the following article ids:
[1430.0, 1314.0, 1429.0, 1338.0, 1276.0, 1432.0, 593.0, 1185.0, 993.0, 14.0]

The top 10 recommendations for user 20 are the following article names:
['using pixiedust for fast, flexible, and easier data analysis and experimentation', 'healthcare python streaming application demo', 'use deep learning for image classification', 'ml optimization using cognitive assistant', 'deploy your python model as a restful api', 'visualize data with the matplotlib library', 'upload files to ibm data science experience using the command line', 'classify tumors with machine learning', 'configuring the apache spark sql context', 'got zip code data? prep it for analytics. – ibm watson data lab – medium']
5. Use your functions from above to correctly fill in the solutions to the dictionary below. Then test your dictionary against the solution. Provide the code you need to answer each following the comments below.

### Tests with a dictionary of results
​
user1_most_sim = get_top_sorted_users(1).iloc[0].neighbor_id
user131_10th_sim = get_top_sorted_users(131).iloc[9].neighbor_id
## Dictionary Test Here
sol_5_dict = {
    'The user that is most similar to user 1.': user1_most_sim, 
    'The user that is the 10th most similar to user 131': user131_10th_sim,
}
​
t.sol_5_test(sol_5_dict)
This all looks good!  Nice job!
6. If we were given a new user, which of the above functions would you be able to use to make recommendations? Explain. Can you think of a better way we might make recommendations? Use the cell below to explain a better method for new users.

Provide your response here.

7. Using your existing functions, provide the top 10 recommended articles you would provide for the a new user below. You can test your function against our thoughts to make sure we are all on the same page with how we might make a recommendation.

new_user = '0.0'
​
# What would your recommendations be for this new user '0.0'?  As a new user, they have no observed articles.
# Provide a list of the top 10 article ids you would give to 
new_user_recs = get_top_article_ids(10)
print(new_user_recs)
​
​
['1429.0', '1330.0', '1431.0', '1427.0', '1364.0', '1314.0', '1293.0', '1170.0', '1162.0', '1304.0']
assert set(new_user_recs) == set(['1314.0','1429.0','1293.0','1427.0','1162.0','1364.0','1304.0','1170.0','1431.0','1330.0']), "Oops!  It makes sense that in this case we would want to recommend the most popular articles, because we don't know anything about these users."
​
print("That's right!  Nice job!")
That's right!  Nice job!
